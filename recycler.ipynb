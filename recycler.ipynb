{
 "cells": [
  {
   "metadata": {},
   "cell_type": "markdown",
   "source": [
    "### Merge 2 dataframes\n",
    "df_pp_attributes = pd.merge(df_player, df_player_attributes, left_on=df_player.loc[:, \"player_api_id\"], right_on=df_player_attributes.loc[:, \"player_api_id\"], how='inner')"
   ],
   "id": "f8b1ed29e632e4c0"
  },
  {
   "metadata": {},
   "cell_type": "markdown",
   "source": "",
   "id": "43e18e4eb3a6a1b6"
  }
 ],
 "metadata": {
  "kernelspec": {
   "display_name": "Python 3",
   "language": "python",
   "name": "python3"
  },
  "language_info": {
   "codemirror_mode": {
    "name": "ipython",
    "version": 2
   },
   "file_extension": ".py",
   "mimetype": "text/x-python",
   "name": "python",
   "nbconvert_exporter": "python",
   "pygments_lexer": "ipython2",
   "version": "2.7.6"
  }
 },
 "nbformat": 4,
 "nbformat_minor": 5
}
