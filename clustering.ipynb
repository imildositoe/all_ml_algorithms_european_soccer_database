{
 "cells": [
  {
   "metadata": {},
   "cell_type": "markdown",
   "source": [
    "### Clustering\n",
    "Identify clusters of similar players based on their attributes.\n",
    "\n",
    "Use K-Means or hierarchical clustering to group players by their performance metrics (e.g., passing accuracy, finishing, dribbling).\n",
    "The goal is to discover patterns in player attributes such as attacking and defending skills, and identify player roles (e.g., defenders vs attackers) from the clusters."
   ],
   "id": "2da04b9fdc873ae9"
  },
  {
   "cell_type": "code",
   "id": "initial_id",
   "metadata": {
    "collapsed": true
   },
   "source": [
    "import pandas as pd\n",
    "import sqlite3\n",
    "import numpy as np\n",
    "import matplotlib.pyplot as plt\n",
    "from sklearn.cluster import KMeans\n",
    "from  sklearn.preprocessing import StandardScaler"
   ],
   "outputs": [],
   "execution_count": 44
  },
  {
   "metadata": {},
   "cell_type": "code",
   "source": [
    "conn = sqlite3.connect('database.sqlite')\n",
    "df_pp_attributes = pd.read_sql('SELECT pa.crossing AS crossing, pa.finishing AS finishing, pa.dribbling as dribbling, pa.long_passing AS long_passing FROM Player p JOIN Player_Attributes pa ON p.player_api_id = pa.player_api_id', conn)\n",
    "conn.close()"
   ],
   "id": "2d01172b6185c2c",
   "outputs": [],
   "execution_count": 45
  },
  {
   "metadata": {},
   "cell_type": "code",
   "source": "df_pp_attributes.head(3)",
   "id": "54f4f3b5826fb8b2",
   "outputs": [],
   "execution_count": 47
  },
  {
   "metadata": {},
   "cell_type": "code",
   "outputs": [],
   "execution_count": null,
   "source": [
    "# Scale the data\n",
    "features = ['crossing', 'finishing', 'dribbling', 'long_passing']\n",
    "scaler =  StandardScaler()\n",
    "df_pp_attributes_scaled = scaler.fit_transform(df_pp_attributes[features])"
   ],
   "id": "2db97855412ea9f6"
  },
  {
   "metadata": {},
   "cell_type": "code",
   "outputs": [],
   "execution_count": null,
   "source": [
    "# kmeans = KMeans(n_clusters=3).fit(df_pp_attributes)\n",
    "# centroids = kmeans.cluster_centers_\n",
    "# print(centroids)\n",
    "# \n",
    "# print(kmeans.labels_)"
   ],
   "id": "15d1a5908d00d4d5"
  }
 ],
 "metadata": {
  "kernelspec": {
   "display_name": "Python 3",
   "language": "python",
   "name": "python3"
  },
  "language_info": {
   "codemirror_mode": {
    "name": "ipython",
    "version": 2
   },
   "file_extension": ".py",
   "mimetype": "text/x-python",
   "name": "python",
   "nbconvert_exporter": "python",
   "pygments_lexer": "ipython2",
   "version": "2.7.6"
  }
 },
 "nbformat": 4,
 "nbformat_minor": 5
}
