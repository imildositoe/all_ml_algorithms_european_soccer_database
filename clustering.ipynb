{
 "cells": [
  {
   "metadata": {},
   "cell_type": "markdown",
   "source": [
    "### Clustering\n",
    "Identify clusters of similar players based on their attributes.\n",
    "\n",
    "Use K-Means or hierarchical clustering to group players by their performance metrics (e.g., passing accuracy, finishing, dribbling).\n",
    "The goal is to discover patterns in player attributes such as attacking and defending skills, and identify player roles (e.g., defenders vs attackers) from the clusters."
   ],
   "id": "2da04b9fdc873ae9"
  },
  {
   "cell_type": "code",
   "id": "initial_id",
   "metadata": {
    "collapsed": true,
    "ExecuteTime": {
     "end_time": "2024-10-25T20:32:23.887398Z",
     "start_time": "2024-10-25T20:32:23.874762Z"
    }
   },
   "source": [
    "import pandas as pd\n",
    "import sqlite3"
   ],
   "outputs": [],
   "execution_count": 11
  },
  {
   "metadata": {
    "ExecuteTime": {
     "end_time": "2024-10-25T20:32:27.658591Z",
     "start_time": "2024-10-25T20:32:23.904169Z"
    }
   },
   "cell_type": "code",
   "source": [
    "conn = sqlite3.connect('database.sqlite')\n",
    "df_player = pd.read_sql('SELECT * FROM Player', conn)\n",
    "df_player_attributes = pd.read_sql('SELECT * FROM Player_Attributes', conn)\n",
    "conn.close()"
   ],
   "id": "54f4f3b5826fb8b2",
   "outputs": [],
   "execution_count": 12
  },
  {
   "metadata": {
    "ExecuteTime": {
     "end_time": "2024-10-25T20:32:27.720698Z",
     "start_time": "2024-10-25T20:32:27.706677Z"
    }
   },
   "cell_type": "code",
   "source": [
    "# conn = sqlite3.connect('database.sqlite')\n",
    "# player_attributes = pd.read_sql('SELECT * FROM Player_Attributes', conn)\n",
    "# df_player_attributes = pd.DataFrame(player_attributes)\n",
    "# conn.close()"
   ],
   "id": "510a2f0bf0e7d3e2",
   "outputs": [],
   "execution_count": 13
  },
  {
   "metadata": {
    "ExecuteTime": {
     "end_time": "2024-10-25T20:32:27.800475Z",
     "start_time": "2024-10-25T20:32:27.769781Z"
    }
   },
   "cell_type": "code",
   "source": [
    "print(df_player.head())\n",
    "print(df_player_attributes.head())"
   ],
   "id": "a9e24527e108a057",
   "outputs": [
    {
     "name": "stdout",
     "output_type": "stream",
     "text": [
      "   id  player_api_id         player_name  player_fifa_api_id  \\\n",
      "0   1         505942  Aaron Appindangoye              218353   \n",
      "1   2         155782     Aaron Cresswell              189615   \n",
      "2   3         162549         Aaron Doran              186170   \n",
      "3   4          30572       Aaron Galindo              140161   \n",
      "4   5          23780        Aaron Hughes               17725   \n",
      "\n",
      "              birthday  height  weight  \n",
      "0  1992-02-29 00:00:00  182.88     187  \n",
      "1  1989-12-15 00:00:00  170.18     146  \n",
      "2  1991-05-13 00:00:00  170.18     163  \n",
      "3  1982-05-08 00:00:00  182.88     198  \n",
      "4  1979-11-08 00:00:00  182.88     154  \n",
      "   id  player_fifa_api_id  player_api_id                 date  overall_rating  \\\n",
      "0   1              218353         505942  2016-02-18 00:00:00            67.0   \n",
      "1   2              218353         505942  2015-11-19 00:00:00            67.0   \n",
      "2   3              218353         505942  2015-09-21 00:00:00            62.0   \n",
      "3   4              218353         505942  2015-03-20 00:00:00            61.0   \n",
      "4   5              218353         505942  2007-02-22 00:00:00            61.0   \n",
      "\n",
      "   potential preferred_foot attacking_work_rate defensive_work_rate  crossing  \\\n",
      "0       71.0          right              medium              medium      49.0   \n",
      "1       71.0          right              medium              medium      49.0   \n",
      "2       66.0          right              medium              medium      49.0   \n",
      "3       65.0          right              medium              medium      48.0   \n",
      "4       65.0          right              medium              medium      48.0   \n",
      "\n",
      "   ...  vision  penalties  marking  standing_tackle  sliding_tackle  \\\n",
      "0  ...    54.0       48.0     65.0             69.0            69.0   \n",
      "1  ...    54.0       48.0     65.0             69.0            69.0   \n",
      "2  ...    54.0       48.0     65.0             66.0            69.0   \n",
      "3  ...    53.0       47.0     62.0             63.0            66.0   \n",
      "4  ...    53.0       47.0     62.0             63.0            66.0   \n",
      "\n",
      "   gk_diving  gk_handling  gk_kicking  gk_positioning  gk_reflexes  \n",
      "0        6.0         11.0        10.0             8.0          8.0  \n",
      "1        6.0         11.0        10.0             8.0          8.0  \n",
      "2        6.0         11.0        10.0             8.0          8.0  \n",
      "3        5.0         10.0         9.0             7.0          7.0  \n",
      "4        5.0         10.0         9.0             7.0          7.0  \n",
      "\n",
      "[5 rows x 42 columns]\n"
     ]
    }
   ],
   "execution_count": 14
  },
  {
   "metadata": {
    "ExecuteTime": {
     "end_time": "2024-10-25T20:32:28.230759Z",
     "start_time": "2024-10-25T20:32:27.880455Z"
    }
   },
   "cell_type": "code",
   "source": "df_player_player_attributes = pd.merge(df_player, df_player_attributes, left_on=df_player.loc[:, \"player_api_id\"], right_on=df_player_attributes.loc[:, \"player_api_id\"], how='inner')",
   "id": "8d490ce2fcd7f224",
   "outputs": [],
   "execution_count": 15
  }
 ],
 "metadata": {
  "kernelspec": {
   "display_name": "Python 3",
   "language": "python",
   "name": "python3"
  },
  "language_info": {
   "codemirror_mode": {
    "name": "ipython",
    "version": 2
   },
   "file_extension": ".py",
   "mimetype": "text/x-python",
   "name": "python",
   "nbconvert_exporter": "python",
   "pygments_lexer": "ipython2",
   "version": "2.7.6"
  }
 },
 "nbformat": 4,
 "nbformat_minor": 5
}
