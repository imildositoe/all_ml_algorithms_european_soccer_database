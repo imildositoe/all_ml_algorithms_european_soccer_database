{
 "cells": [
  {
   "metadata": {},
   "cell_type": "markdown",
   "source": [
    "### Clustering\n",
    "Exercise: Identify clusters of similar players based on their attributes.\n",
    "\n",
    "Task: Use K-Means or hierarchical clustering to group players by their performance metrics (e.g., passing accuracy, finishing, dribbling).\n",
    "Goal: Discover patterns in player attributes (such as attacking and defending skills) and identify player roles (e.g., defenders vs attackers) from the clusters.\n",
    "Key Skills: Preprocessing (scaling features), choosing the number of clusters (Elbow method, silhouette score)."
   ],
   "id": "2da04b9fdc873ae9"
  },
  {
   "cell_type": "code",
   "id": "initial_id",
   "metadata": {
    "collapsed": true,
    "ExecuteTime": {
     "end_time": "2024-10-25T13:21:54.902704Z",
     "start_time": "2024-10-25T13:21:54.885301Z"
    }
   },
   "source": [
    "import pandas as pd\n",
    "import sqlite3"
   ],
   "outputs": [],
   "execution_count": 2
  },
  {
   "metadata": {
    "ExecuteTime": {
     "end_time": "2024-10-25T13:33:38.435936Z",
     "start_time": "2024-10-25T13:33:38.416538Z"
    }
   },
   "cell_type": "code",
   "source": [
    "# Connect to the SQLite DB\n",
    "conn = sqlite3.connect('database.sqlite')\n",
    "cursor = conn.cursor()"
   ],
   "id": "96745b28205be1ea",
   "outputs": [],
   "execution_count": 7
  },
  {
   "metadata": {
    "ExecuteTime": {
     "end_time": "2024-10-25T13:57:31.162420Z",
     "start_time": "2024-10-25T13:57:31.043848Z"
    }
   },
   "cell_type": "code",
   "source": [
    "country = cursor.execute('SELECT * FROM Country')\n",
    "league = cursor.execute('SELECT * FROM League')\n",
    "match = cursor.execute('SELECT * FROM Match')\n",
    "player = cursor.execute('SELECT * FROM Player')\n",
    "player_attributes = cursor.execute('SELECT * FROM Player_Attributes')\n",
    "team = cursor.execute('SELECT * FROM Team')\n",
    "team_attributes = cursor.execute('SELECT * FROM Team_Attributes')"
   ],
   "id": "510a2f0bf0e7d3e2",
   "outputs": [],
   "execution_count": 8
  },
  {
   "metadata": {
    "ExecuteTime": {
     "end_time": "2024-10-25T13:57:43.768794Z",
     "start_time": "2024-10-25T13:57:43.670944Z"
    }
   },
   "cell_type": "code",
   "source": [
    "df_country = pd.DataFrame(country)\n",
    "df_league = pd.DataFrame(league)\n",
    "df_match = pd.DataFrame(match)\n",
    "df_player = pd.DataFrame(player)\n",
    "df_player_attributes = pd.DataFrame(player_attributes)\n",
    "df_team = pd.DataFrame(team)\n",
    "df_team_attributes = pd.DataFrame(team_attributes)"
   ],
   "id": "5afbc146842cd64a",
   "outputs": [],
   "execution_count": 9
  }
 ],
 "metadata": {
  "kernelspec": {
   "display_name": "Python 3",
   "language": "python",
   "name": "python3"
  },
  "language_info": {
   "codemirror_mode": {
    "name": "ipython",
    "version": 2
   },
   "file_extension": ".py",
   "mimetype": "text/x-python",
   "name": "python",
   "nbconvert_exporter": "python",
   "pygments_lexer": "ipython2",
   "version": "2.7.6"
  }
 },
 "nbformat": 4,
 "nbformat_minor": 5
}
