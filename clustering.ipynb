{
 "cells": [
  {
   "metadata": {},
   "cell_type": "markdown",
   "source": [
    "### Clustering\n",
    "Identify clusters of similar players based on their attributes.\n",
    "\n",
    "Use K-Means or hierarchical clustering to group players by their performance metrics (e.g., passing accuracy, finishing, dribbling).\n",
    "The goal is to discover patterns in player attributes such as attacking and defending skills, and identify player roles (e.g., defenders vs attackers) from the clusters."
   ],
   "id": "2da04b9fdc873ae9"
  },
  {
   "cell_type": "code",
   "id": "initial_id",
   "metadata": {
    "collapsed": true
   },
   "source": [
    "import pandas as pd\n",
    "import sqlite3\n",
    "import numpy as np\n",
    "import matplotlib.pyplot as plt\n",
    "from sklearn.decomposition import PCA\n",
    "from sklearn.cluster import KMeans\n",
    "from  sklearn.preprocessing import StandardScaler"
   ],
   "outputs": [],
   "execution_count": 44
  },
  {
   "metadata": {},
   "cell_type": "code",
   "source": [
    "# Get the data from the database\n",
    "conn = sqlite3.connect('database.sqlite')\n",
    "df_pp_attributes = pd.read_sql('SELECT pa.crossing AS crossing, pa.finishing AS finishing, pa.dribbling as dribbling, pa.long_passing AS long_passing FROM Player p JOIN Player_Attributes pa ON p.player_api_id = pa.player_api_id', conn)\n",
    "conn.close()"
   ],
   "id": "2d01172b6185c2c",
   "outputs": [],
   "execution_count": 45
  },
  {
   "metadata": {},
   "cell_type": "code",
   "source": "df_pp_attributes.head(3)",
   "id": "54f4f3b5826fb8b2",
   "outputs": [],
   "execution_count": 47
  },
  {
   "metadata": {},
   "cell_type": "code",
   "outputs": [],
   "execution_count": null,
   "source": [
    "# Scale the data\n",
    "features = ['crossing', 'finishing', 'dribbling', 'long_passing']\n",
    "scaler =  StandardScaler()\n",
    "df_pp_attributes_scaled = scaler.fit_transform(df_pp_attributes[features])"
   ],
   "id": "2db97855412ea9f6"
  },
  {
   "metadata": {},
   "cell_type": "code",
   "outputs": [],
   "execution_count": null,
   "source": [
    "kmeans = KMeans(n_clusters=3, random_state=0)\n",
    "df_pp_attributes['cluster'] = kmeans.fit_predict(df_pp_attributes_scaled)"
   ],
   "id": "ff2c7bee9eacfc3d"
  },
  {
   "metadata": {},
   "cell_type": "code",
   "outputs": [],
   "execution_count": null,
   "source": "# Map clusters to the categories to know which cluster represents which category ('Good', 'Intermediate', and 'Bad') in order to label the clusters and color them\n",
   "id": "fa410b6a2a7670fb"
  },
  {
   "metadata": {},
   "cell_type": "code",
   "outputs": [],
   "execution_count": null,
   "source": [
    "# Perform dimensionality reduction using PCA in order to visualize the clusters in 2D\n",
    "pca = PCA(n_components=2)\n",
    "df_pp_attributes_pca = pca.fit_transform(df_pp_attributes_scaled)\n",
    "df_pp_attributes['PCA1'] = df_pp_attributes_pca[:, 0]\n",
    "df_pp_attributes['PCA2'] = df_pp_attributes_pca[:, 1]"
   ],
   "id": "8460e41d246828cd"
  },
  {
   "metadata": {},
   "cell_type": "code",
   "outputs": [],
   "execution_count": null,
   "source": [
    "# Visualize the scatter plot\n",
    "plt.figure(figsize=(10, 7))\n",
    "plt.scatter(df_pp_attributes['PCA1'], df_pp_attributes['PCA2'], c=df_pp_attributes['cluster'], cmap='viridis', marker='o')\n",
    "plt.xlabel('PCA1')\n",
    "plt.ylabel('PCA2')\n",
    "plt.title('Best Player using PCA1 and PCA2')\n",
    "plt.colorbar()\n",
    "plt.show()"
   ],
   "id": "c6121c18d1f355be"
  },
  {
   "metadata": {},
   "cell_type": "code",
   "outputs": [],
   "execution_count": null,
   "source": "",
   "id": "15d1a5908d00d4d5"
  }
 ],
 "metadata": {
  "kernelspec": {
   "display_name": "Python 3",
   "language": "python",
   "name": "python3"
  },
  "language_info": {
   "codemirror_mode": {
    "name": "ipython",
    "version": 2
   },
   "file_extension": ".py",
   "mimetype": "text/x-python",
   "name": "python",
   "nbconvert_exporter": "python",
   "pygments_lexer": "ipython2",
   "version": "2.7.6"
  }
 },
 "nbformat": 4,
 "nbformat_minor": 5
}
