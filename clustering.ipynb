{
 "cells": [
  {
   "metadata": {},
   "cell_type": "markdown",
   "source": [
    "### Clustering\n",
    "Identify clusters of similar players based on their attributes.\n",
    "\n",
    "Use K-Means or hierarchical clustering to group players by their performance metrics (e.g., passing accuracy, finishing, dribbling).\n",
    "The goal is to discover patterns in player attributes such as attacking and defending skills, and identify player roles (e.g., defenders vs attackers) from the clusters."
   ],
   "id": "2da04b9fdc873ae9"
  },
  {
   "cell_type": "code",
   "id": "initial_id",
   "metadata": {
    "collapsed": true
   },
   "source": [
    "import pandas as pd\n",
    "import sqlite3"
   ],
   "outputs": [],
   "execution_count": 44
  },
  {
   "metadata": {},
   "cell_type": "code",
   "source": [
    "conn = sqlite3.connect('database.sqlite')\n",
    "df_pp_attributes = pd.read_sql('SELECT * FROM Player p JOIN Player_Attributes pa ON p.player_api_id = pa.player_api_id', conn)\n",
    "conn.close()"
   ],
   "id": "2d01172b6185c2c",
   "outputs": [],
   "execution_count": 45
  },
  {
   "metadata": {},
   "cell_type": "code",
   "source": "df_pp_attributes.head()",
   "id": "54f4f3b5826fb8b2",
   "outputs": [],
   "execution_count": 47
  }
 ],
 "metadata": {
  "kernelspec": {
   "display_name": "Python 3",
   "language": "python",
   "name": "python3"
  },
  "language_info": {
   "codemirror_mode": {
    "name": "ipython",
    "version": 2
   },
   "file_extension": ".py",
   "mimetype": "text/x-python",
   "name": "python",
   "nbconvert_exporter": "python",
   "pygments_lexer": "ipython2",
   "version": "2.7.6"
  }
 },
 "nbformat": 4,
 "nbformat_minor": 5
}
